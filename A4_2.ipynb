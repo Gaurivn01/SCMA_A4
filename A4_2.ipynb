{
 "cells": [
  {
   "cell_type": "markdown",
   "id": "ccb18c0f",
   "metadata": {},
   "source": [
    "## A4_2 : Cluster Analysis\n",
    "                    Gauri Vinod Nair\n",
    "                    V01110160"
   ]
  },
  {
   "cell_type": "code",
   "execution_count": 2,
   "id": "d39bb5b4",
   "metadata": {},
   "outputs": [],
   "source": [
    "import pandas as pd\n",
    "import numpy as np\n",
    "import matplotlib.pyplot as plt\n",
    "from sklearn.cluster import KMeans\n",
    "from sklearn.preprocessing import StandardScaler, OneHotEncoder\n",
    "from sklearn.compose import ColumnTransformer\n",
    "from sklearn.metrics import silhouette_score"
   ]
  },
  {
   "cell_type": "code",
   "execution_count": 3,
   "id": "b27c4a48",
   "metadata": {},
   "outputs": [
    {
     "name": "stdout",
     "output_type": "stream",
     "text": [
      "        City Sex    Age      Occupation Monthly Household Income  Income  \\\n",
      "0  Bangalore   M  26-35  Private Sector         85,001 to105,000   95000   \n",
      "1  Bangalore   M  46-60  Government/PSU         45,001 to 65,000   55000   \n",
      "2  Bangalore   F  46-60  Government/PSU         25,001 to 45,000   35000   \n",
      "3  Bangalore   M  36-45  Private Sector                  >125000  200000   \n",
      "4  Bangalore   M  26-35   Self Employed         85,001 to105,000   95000   \n",
      "\n",
      "  Planning to Buy a new house Time Frame Reasons for buying a house  \\\n",
      "0                         Yes  6M to 1Yr                   Residing   \n",
      "1                         Yes  6M to 1Yr                 Investment   \n",
      "2                         Yes  <6 Months              Rental Income   \n",
      "3                         Yes  <6 Months                 Investment   \n",
      "4                         Yes     1-2 Yr                   Residing   \n",
      "\n",
      "  what type of House  ... 4. Availability of domestic help Time  Size Budgets  \\\n",
      "0          Apartment  ...                                1    9  1200    72.5   \n",
      "1          Apartment  ...                                2    9   800    32.5   \n",
      "2          Apartment  ...                                4    3   400    12.5   \n",
      "3          Apartment  ...                                5    3  1600   102.5   \n",
      "4          Apartment  ...                                3   18   800    52.5   \n",
      "\n",
      "  Maintainances  EMI.1  ages  sex  Finished/Semi Finished.1  \\\n",
      "0         30000  42500  30.5    M             Semifurnished   \n",
      "1           120  27500  53.0    M             Semifurnished   \n",
      "2         10000  10000  53.0    F             Semifurnished   \n",
      "3         70000  80000  40.5    M                 Furnished   \n",
      "4         30000  42500  30.5    M             Semifurnished   \n",
      "\n",
      "   Influence Decision.1  \n",
      "0           Site visits  \n",
      "1             Newspaper  \n",
      "2              Hoarding  \n",
      "3   Electronic/Internet  \n",
      "4   Electronic/Internet  \n",
      "\n",
      "[5 rows x 50 columns]\n",
      "<class 'pandas.core.frame.DataFrame'>\n",
      "RangeIndex: 70 entries, 0 to 69\n",
      "Data columns (total 50 columns):\n",
      " #   Column                                     Non-Null Count  Dtype  \n",
      "---  ------                                     --------------  -----  \n",
      " 0   City                                       70 non-null     object \n",
      " 1   Sex                                        70 non-null     object \n",
      " 2   Age                                        70 non-null     object \n",
      " 3   Occupation                                 70 non-null     object \n",
      " 4   Monthly Household Income                   70 non-null     object \n",
      " 5   Income                                     70 non-null     int64  \n",
      " 6   Planning to Buy a new house                70 non-null     object \n",
      " 7   Time Frame                                 70 non-null     object \n",
      " 8   Reasons for buying a house                 70 non-null     object \n",
      " 9   what type of House                         70 non-null     object \n",
      " 10  Number of rooms                            70 non-null     object \n",
      " 11  Size of House                              70 non-null     object \n",
      " 12  Budget                                     70 non-null     object \n",
      " 13  Finished/Semi Finished                     70 non-null     object \n",
      " 14  Influence Decision                         70 non-null     object \n",
      " 15  Maintainance                               70 non-null     object \n",
      " 16  EMI                                        70 non-null     object \n",
      " 17  1.Proximity to city                        70 non-null     int64  \n",
      " 18  2.Proximity to schools                     70 non-null     int64  \n",
      " 19  3. Proximity to transport                  70 non-null     int64  \n",
      " 20  4. Proximity to work place                 70 non-null     int64  \n",
      " 21  5. Proximity to shopping                   70 non-null     int64  \n",
      " 22  1. Gym/Pool/Sports facility                70 non-null     int64  \n",
      " 23  2. Parking space                           70 non-null     int64  \n",
      " 24  3.Power back-up                            70 non-null     int64  \n",
      " 25  4.Water supply                             70 non-null     int64  \n",
      " 26  5.Security                                 70 non-null     int64  \n",
      " 27  1. Exterior look                           70 non-null     int64  \n",
      " 28  2. Unit size                               70 non-null     int64  \n",
      " 29  3. Interior design and branded components  70 non-null     int64  \n",
      " 30  4. Layout plan (Integrated etc.)           70 non-null     int64  \n",
      " 31  5. View from apartment                     70 non-null     int64  \n",
      " 32  1. Price                                   70 non-null     int64  \n",
      " 33  2. Booking amount                          70 non-null     int64  \n",
      " 34  3. Equated Monthly Instalment (EMI)        70 non-null     int64  \n",
      " 35  4. Maintenance charges                     70 non-null     int64  \n",
      " 36  5. Availability of loan                    70 non-null     int64  \n",
      " 37  1. Builder reputation                      70 non-null     int64  \n",
      " 38  2. Appreciation potential                  70 non-null     int64  \n",
      " 39  3. Profile of neighbourhood                70 non-null     int64  \n",
      " 40  4. Availability of domestic help           70 non-null     int64  \n",
      " 41  Time                                       70 non-null     int64  \n",
      " 42  Size                                       70 non-null     int64  \n",
      " 43  Budgets                                    70 non-null     float64\n",
      " 44  Maintainances                              70 non-null     int64  \n",
      " 45  EMI.1                                      70 non-null     int64  \n",
      " 46  ages                                       70 non-null     float64\n",
      " 47  sex                                        70 non-null     object \n",
      " 48  Finished/Semi Finished.1                   70 non-null     object \n",
      " 49  Influence Decision.1                       70 non-null     object \n",
      "dtypes: float64(2), int64(29), object(19)\n",
      "memory usage: 27.5+ KB\n",
      "None\n"
     ]
    }
   ],
   "source": [
    "# Load the dataset\n",
    "df = pd.read_csv('Survey.csv')\n",
    "\n",
    "# Inspect the data\n",
    "print(df.head())\n",
    "print(df.info())"
   ]
  },
  {
   "cell_type": "code",
   "execution_count": 4,
   "id": "e8f8f373",
   "metadata": {},
   "outputs": [
    {
     "name": "stdout",
     "output_type": "stream",
     "text": [
      "  City Sex    Age Occupation Monthly Household Income  Income  \\\n",
      "0           26-35                    85,001 to105,000   95000   \n",
      "1           46-60                    45,001 to 65,000   55000   \n",
      "2           46-60                    25,001 to 45,000   35000   \n",
      "3           36-45                             >125000  200000   \n",
      "4           26-35                    85,001 to105,000   95000   \n",
      "\n",
      "  Planning to Buy a new house Time Frame Reasons for buying a house  \\\n",
      "0                              6M to 1Yr                              \n",
      "1                              6M to 1Yr                              \n",
      "2                                    <6                               \n",
      "3                                    <6                               \n",
      "4                                   1-2                               \n",
      "\n",
      "  what type of House  ... 4. Availability of domestic help Time  Size Budgets  \\\n",
      "0                     ...                                1    9  1200    72.5   \n",
      "1                     ...                                2    9   800    32.5   \n",
      "2                     ...                                4    3   400    12.5   \n",
      "3                     ...                                5    3  1600   102.5   \n",
      "4                     ...                                3   18   800    52.5   \n",
      "\n",
      "  Maintainances  EMI.1  ages  sex  Finished/Semi Finished.1  \\\n",
      "0         30000  42500  30.5                                  \n",
      "1           120  27500  53.0                                  \n",
      "2         10000  10000  53.0                                  \n",
      "3         70000  80000  40.5                                  \n",
      "4         30000  42500  30.5                                  \n",
      "\n",
      "   Influence Decision.1  \n",
      "0                        \n",
      "1                        \n",
      "2                        \n",
      "3                        \n",
      "4                        \n",
      "\n",
      "[5 rows x 50 columns]\n",
      "<class 'pandas.core.frame.DataFrame'>\n",
      "RangeIndex: 70 entries, 0 to 69\n",
      "Data columns (total 50 columns):\n",
      " #   Column                                     Non-Null Count  Dtype  \n",
      "---  ------                                     --------------  -----  \n",
      " 0   City                                       70 non-null     object \n",
      " 1   Sex                                        70 non-null     object \n",
      " 2   Age                                        70 non-null     object \n",
      " 3   Occupation                                 70 non-null     object \n",
      " 4   Monthly Household Income                   70 non-null     object \n",
      " 5   Income                                     70 non-null     int64  \n",
      " 6   Planning to Buy a new house                70 non-null     object \n",
      " 7   Time Frame                                 70 non-null     object \n",
      " 8   Reasons for buying a house                 70 non-null     object \n",
      " 9   what type of House                         70 non-null     object \n",
      " 10  Number of rooms                            70 non-null     object \n",
      " 11  Size of House                              70 non-null     object \n",
      " 12  Budget                                     70 non-null     object \n",
      " 13  Finished/Semi Finished                     70 non-null     object \n",
      " 14  Influence Decision                         70 non-null     object \n",
      " 15  Maintainance                               70 non-null     object \n",
      " 16  EMI                                        70 non-null     object \n",
      " 17  1.Proximity to city                        70 non-null     int64  \n",
      " 18  2.Proximity to schools                     70 non-null     int64  \n",
      " 19  3. Proximity to transport                  70 non-null     int64  \n",
      " 20  4. Proximity to work place                 70 non-null     int64  \n",
      " 21  5. Proximity to shopping                   70 non-null     int64  \n",
      " 22  1. Gym/Pool/Sports facility                70 non-null     int64  \n",
      " 23  2. Parking space                           70 non-null     int64  \n",
      " 24  3.Power back-up                            70 non-null     int64  \n",
      " 25  4.Water supply                             70 non-null     int64  \n",
      " 26  5.Security                                 70 non-null     int64  \n",
      " 27  1. Exterior look                           70 non-null     int64  \n",
      " 28  2. Unit size                               70 non-null     int64  \n",
      " 29  3. Interior design and branded components  70 non-null     int64  \n",
      " 30  4. Layout plan (Integrated etc.)           70 non-null     int64  \n",
      " 31  5. View from apartment                     70 non-null     int64  \n",
      " 32  1. Price                                   70 non-null     int64  \n",
      " 33  2. Booking amount                          70 non-null     int64  \n",
      " 34  3. Equated Monthly Instalment (EMI)        70 non-null     int64  \n",
      " 35  4. Maintenance charges                     70 non-null     int64  \n",
      " 36  5. Availability of loan                    70 non-null     int64  \n",
      " 37  1. Builder reputation                      70 non-null     int64  \n",
      " 38  2. Appreciation potential                  70 non-null     int64  \n",
      " 39  3. Profile of neighbourhood                70 non-null     int64  \n",
      " 40  4. Availability of domestic help           70 non-null     int64  \n",
      " 41  Time                                       70 non-null     int64  \n",
      " 42  Size                                       70 non-null     int64  \n",
      " 43  Budgets                                    70 non-null     float64\n",
      " 44  Maintainances                              70 non-null     int64  \n",
      " 45  EMI.1                                      70 non-null     int64  \n",
      " 46  ages                                       70 non-null     float64\n",
      " 47  sex                                        70 non-null     object \n",
      " 48  Finished/Semi Finished.1                   70 non-null     object \n",
      " 49  Influence Decision.1                       70 non-null     object \n",
      "dtypes: float64(2), int64(29), object(19)\n",
      "memory usage: 27.5+ KB\n",
      "None\n"
     ]
    }
   ],
   "source": [
    "# Handle concatenated strings (if applicable)\n",
    "for col in df.columns:\n",
    "    if df[col].dtype == 'object':\n",
    "        df[col] = df[col].str.split(r'(?<!\\w)(?=[A-Z])').str[0]  # Simplified splitting\n",
    "\n",
    "# Verify the data after cleaning\n",
    "print(df.head())\n",
    "print(df.info())"
   ]
  },
  {
   "cell_type": "code",
   "execution_count": 5,
   "id": "552f49c3",
   "metadata": {},
   "outputs": [],
   "source": [
    "# Select only categorical columns and numerical columns for clustering\n",
    "categorical_cols = df.select_dtypes(include=['object']).columns\n",
    "numerical_cols = df.select_dtypes(include=[np.number]).columns\n",
    "df_categorical = df[categorical_cols]\n",
    "df_numerical = df[numerical_cols]"
   ]
  },
  {
   "cell_type": "code",
   "execution_count": 6,
   "id": "639898b0",
   "metadata": {},
   "outputs": [
    {
     "name": "stderr",
     "output_type": "stream",
     "text": [
      "C:\\Users\\gauri\\AppData\\Local\\Temp\\ipykernel_22524\\3144909215.py:2: SettingWithCopyWarning: \n",
      "A value is trying to be set on a copy of a slice from a DataFrame\n",
      "\n",
      "See the caveats in the documentation: https://pandas.pydata.org/pandas-docs/stable/user_guide/indexing.html#returning-a-view-versus-a-copy\n",
      "  df_numerical.fillna(df_numerical.mean(), inplace=True)\n",
      "C:\\Users\\gauri\\anaconda3\\Lib\\site-packages\\sklearn\\preprocessing\\_encoders.py:972: FutureWarning: `sparse` was renamed to `sparse_output` in version 1.2 and will be removed in 1.4. `sparse_output` is ignored unless you leave `sparse` to its default value.\n",
      "  warnings.warn(\n",
      "C:\\Users\\gauri\\AppData\\Local\\Temp\\ipykernel_22524\\3144909215.py:7: SettingWithCopyWarning: \n",
      "A value is trying to be set on a copy of a slice from a DataFrame\n",
      "\n",
      "See the caveats in the documentation: https://pandas.pydata.org/pandas-docs/stable/user_guide/indexing.html#returning-a-view-versus-a-copy\n",
      "  df_numerical.fillna(df_numerical.mean(), inplace=True)\n",
      "C:\\Users\\gauri\\anaconda3\\Lib\\site-packages\\sklearn\\preprocessing\\_encoders.py:972: FutureWarning: `sparse` was renamed to `sparse_output` in version 1.2 and will be removed in 1.4. `sparse_output` is ignored unless you leave `sparse` to its default value.\n",
      "  warnings.warn(\n"
     ]
    }
   ],
   "source": [
    "# Handle missing values in numerical data\n",
    "df_numerical.fillna(df_numerical.mean(), inplace=True)\n",
    "\n",
    "# Encode categorical variables using One-Hot Encoding\n",
    "encoder = OneHotEncoder(sparse=False, drop='first')  # Drop first to avoid multicollinearity\n",
    "df_encoded_cat = encoder.fit_transform(df_categorical)# Handle missing values in numerical data\n",
    "df_numerical.fillna(df_numerical.mean(), inplace=True)\n",
    "\n",
    "# Encode categorical variables using One-Hot Encoding\n",
    "encoder = OneHotEncoder(sparse=False, drop='first')  # Drop first to avoid multicollinearity\n",
    "df_encoded_cat = encoder.fit_transform(df_categorical)"
   ]
  },
  {
   "cell_type": "code",
   "execution_count": 7,
   "id": "1ff2451d",
   "metadata": {},
   "outputs": [],
   "source": [
    "# Get feature names after encoding\n",
    "encoded_feature_names = encoder.get_feature_names_out(categorical_cols)"
   ]
  },
  {
   "cell_type": "code",
   "execution_count": 8,
   "id": "adf591a3",
   "metadata": {},
   "outputs": [],
   "source": [
    "# Create DataFrame from encoded categorical data\n",
    "df_encoded_cat = pd.DataFrame(df_encoded_cat, columns=encoded_feature_names)\n",
    "\n",
    "# Combine encoded categorical data with numerical data\n",
    "df_encoded = pd.concat([df_encoded_cat, df_numerical.reset_index(drop=True)], axis=1)"
   ]
  },
  {
   "cell_type": "code",
   "execution_count": 9,
   "id": "00781d4e",
   "metadata": {},
   "outputs": [],
   "source": [
    "# Feature scaling\n",
    "scaler = StandardScaler()\n",
    "df_encoded_scaled = scaler.fit_transform(df_encoded)"
   ]
  },
  {
   "cell_type": "code",
   "execution_count": 10,
   "id": "bdb08e61",
   "metadata": {},
   "outputs": [
    {
     "name": "stderr",
     "output_type": "stream",
     "text": [
      "C:\\Users\\gauri\\anaconda3\\Lib\\site-packages\\sklearn\\cluster\\_kmeans.py:1412: FutureWarning: The default value of `n_init` will change from 10 to 'auto' in 1.4. Set the value of `n_init` explicitly to suppress the warning\n",
      "  super()._check_params_vs_input(X, default_n_init=10)\n",
      "C:\\Users\\gauri\\anaconda3\\Lib\\site-packages\\sklearn\\cluster\\_kmeans.py:1436: UserWarning: KMeans is known to have a memory leak on Windows with MKL, when there are less chunks than available threads. You can avoid it by setting the environment variable OMP_NUM_THREADS=1.\n",
      "  warnings.warn(\n",
      "C:\\Users\\gauri\\anaconda3\\Lib\\site-packages\\sklearn\\cluster\\_kmeans.py:1412: FutureWarning: The default value of `n_init` will change from 10 to 'auto' in 1.4. Set the value of `n_init` explicitly to suppress the warning\n",
      "  super()._check_params_vs_input(X, default_n_init=10)\n",
      "C:\\Users\\gauri\\anaconda3\\Lib\\site-packages\\sklearn\\cluster\\_kmeans.py:1436: UserWarning: KMeans is known to have a memory leak on Windows with MKL, when there are less chunks than available threads. You can avoid it by setting the environment variable OMP_NUM_THREADS=1.\n",
      "  warnings.warn(\n",
      "C:\\Users\\gauri\\anaconda3\\Lib\\site-packages\\sklearn\\cluster\\_kmeans.py:1412: FutureWarning: The default value of `n_init` will change from 10 to 'auto' in 1.4. Set the value of `n_init` explicitly to suppress the warning\n",
      "  super()._check_params_vs_input(X, default_n_init=10)\n",
      "C:\\Users\\gauri\\anaconda3\\Lib\\site-packages\\sklearn\\cluster\\_kmeans.py:1436: UserWarning: KMeans is known to have a memory leak on Windows with MKL, when there are less chunks than available threads. You can avoid it by setting the environment variable OMP_NUM_THREADS=1.\n",
      "  warnings.warn(\n",
      "C:\\Users\\gauri\\anaconda3\\Lib\\site-packages\\sklearn\\cluster\\_kmeans.py:1412: FutureWarning: The default value of `n_init` will change from 10 to 'auto' in 1.4. Set the value of `n_init` explicitly to suppress the warning\n",
      "  super()._check_params_vs_input(X, default_n_init=10)\n",
      "C:\\Users\\gauri\\anaconda3\\Lib\\site-packages\\sklearn\\cluster\\_kmeans.py:1436: UserWarning: KMeans is known to have a memory leak on Windows with MKL, when there are less chunks than available threads. You can avoid it by setting the environment variable OMP_NUM_THREADS=1.\n",
      "  warnings.warn(\n",
      "C:\\Users\\gauri\\anaconda3\\Lib\\site-packages\\sklearn\\cluster\\_kmeans.py:1412: FutureWarning: The default value of `n_init` will change from 10 to 'auto' in 1.4. Set the value of `n_init` explicitly to suppress the warning\n",
      "  super()._check_params_vs_input(X, default_n_init=10)\n",
      "C:\\Users\\gauri\\anaconda3\\Lib\\site-packages\\sklearn\\cluster\\_kmeans.py:1436: UserWarning: KMeans is known to have a memory leak on Windows with MKL, when there are less chunks than available threads. You can avoid it by setting the environment variable OMP_NUM_THREADS=1.\n",
      "  warnings.warn(\n",
      "C:\\Users\\gauri\\anaconda3\\Lib\\site-packages\\sklearn\\cluster\\_kmeans.py:1412: FutureWarning: The default value of `n_init` will change from 10 to 'auto' in 1.4. Set the value of `n_init` explicitly to suppress the warning\n",
      "  super()._check_params_vs_input(X, default_n_init=10)\n",
      "C:\\Users\\gauri\\anaconda3\\Lib\\site-packages\\sklearn\\cluster\\_kmeans.py:1436: UserWarning: KMeans is known to have a memory leak on Windows with MKL, when there are less chunks than available threads. You can avoid it by setting the environment variable OMP_NUM_THREADS=1.\n",
      "  warnings.warn(\n",
      "C:\\Users\\gauri\\anaconda3\\Lib\\site-packages\\sklearn\\cluster\\_kmeans.py:1412: FutureWarning: The default value of `n_init` will change from 10 to 'auto' in 1.4. Set the value of `n_init` explicitly to suppress the warning\n",
      "  super()._check_params_vs_input(X, default_n_init=10)\n",
      "C:\\Users\\gauri\\anaconda3\\Lib\\site-packages\\sklearn\\cluster\\_kmeans.py:1436: UserWarning: KMeans is known to have a memory leak on Windows with MKL, when there are less chunks than available threads. You can avoid it by setting the environment variable OMP_NUM_THREADS=1.\n",
      "  warnings.warn(\n",
      "C:\\Users\\gauri\\anaconda3\\Lib\\site-packages\\sklearn\\cluster\\_kmeans.py:1412: FutureWarning: The default value of `n_init` will change from 10 to 'auto' in 1.4. Set the value of `n_init` explicitly to suppress the warning\n",
      "  super()._check_params_vs_input(X, default_n_init=10)\n",
      "C:\\Users\\gauri\\anaconda3\\Lib\\site-packages\\sklearn\\cluster\\_kmeans.py:1436: UserWarning: KMeans is known to have a memory leak on Windows with MKL, when there are less chunks than available threads. You can avoid it by setting the environment variable OMP_NUM_THREADS=1.\n",
      "  warnings.warn(\n",
      "C:\\Users\\gauri\\anaconda3\\Lib\\site-packages\\sklearn\\cluster\\_kmeans.py:1412: FutureWarning: The default value of `n_init` will change from 10 to 'auto' in 1.4. Set the value of `n_init` explicitly to suppress the warning\n",
      "  super()._check_params_vs_input(X, default_n_init=10)\n",
      "C:\\Users\\gauri\\anaconda3\\Lib\\site-packages\\sklearn\\cluster\\_kmeans.py:1436: UserWarning: KMeans is known to have a memory leak on Windows with MKL, when there are less chunks than available threads. You can avoid it by setting the environment variable OMP_NUM_THREADS=1.\n",
      "  warnings.warn(\n",
      "C:\\Users\\gauri\\anaconda3\\Lib\\site-packages\\sklearn\\cluster\\_kmeans.py:1412: FutureWarning: The default value of `n_init` will change from 10 to 'auto' in 1.4. Set the value of `n_init` explicitly to suppress the warning\n",
      "  super()._check_params_vs_input(X, default_n_init=10)\n",
      "C:\\Users\\gauri\\anaconda3\\Lib\\site-packages\\sklearn\\cluster\\_kmeans.py:1436: UserWarning: KMeans is known to have a memory leak on Windows with MKL, when there are less chunks than available threads. You can avoid it by setting the environment variable OMP_NUM_THREADS=1.\n",
      "  warnings.warn(\n"
     ]
    },
    {
     "data": {
      "image/png": "[encoded data removed]",
      "text/plain": [
       "<Figure size 800x500 with 1 Axes>"
      ]
     },
     "metadata": {},
     "output_type": "display_data"
    }
   ],
   "source": [
    "# Determine optimal number of clusters using the Elbow method or Silhouette score\n",
    "# Example using Elbow method\n",
    "inertia = []\n",
    "for k in range(1, 11):\n",
    "    kmeans = KMeans(n_clusters=k, random_state=42)\n",
    "    kmeans.fit(df_encoded_scaled)\n",
    "    inertia.append(kmeans.inertia_)\n",
    "\n",
    "plt.figure(figsize=(8, 5))\n",
    "plt.plot(range(1, 11), inertia, marker='o')\n",
    "plt.xlabel('Number of clusters')\n",
    "plt.ylabel('Inertia')\n",
    "plt.title('Elbow Method')\n",
    "plt.show()"
   ]
  },
  {
   "cell_type": "code",
   "execution_count": 11,
   "id": "681196b1",
   "metadata": {},
   "outputs": [
    {
     "name": "stderr",
     "output_type": "stream",
     "text": [
      "C:\\Users\\gauri\\anaconda3\\Lib\\site-packages\\sklearn\\cluster\\_kmeans.py:1412: FutureWarning: The default value of `n_init` will change from 10 to 'auto' in 1.4. Set the value of `n_init` explicitly to suppress the warning\n",
      "  super()._check_params_vs_input(X, default_n_init=10)\n",
      "C:\\Users\\gauri\\anaconda3\\Lib\\site-packages\\sklearn\\cluster\\_kmeans.py:1436: UserWarning: KMeans is known to have a memory leak on Windows with MKL, when there are less chunks than available threads. You can avoid it by setting the environment variable OMP_NUM_THREADS=1.\n",
      "  warnings.warn(\n"
     ]
    }
   ],
   "source": [
    "# Perform KMeans clustering\n",
    "k = 3  # Choose the optimal number of clusters based on the Elbow method or Silhouette score\n",
    "kmeans = KMeans(n_clusters=k, random_state=42)\n",
    "clusters = kmeans.fit_predict(df_encoded_scaled)"
   ]
  },
  {
   "cell_type": "code",
   "execution_count": 12,
   "id": "66cdf6ff",
   "metadata": {},
   "outputs": [],
   "source": [
    "# Add cluster labels to the original dataframe\n",
    "df['Cluster'] = clusters\n",
    "\n",
    "# Convert non-numeric columns to numeric (if necessary)\n",
    "for col in df.columns:\n",
    "    if df[col].dtype == 'object':\n",
    "        df[col] = pd.to_numeric(df[col], errors='coerce')"
   ]
  },
  {
   "cell_type": "code",
   "execution_count": 13,
   "id": "448c928c",
   "metadata": {},
   "outputs": [],
   "source": [
    "# Handle any remaining missing values\n",
    "df.fillna(0, inplace=True)"
   ]
  },
  {
   "cell_type": "code",
   "execution_count": 14,
   "id": "c5529526",
   "metadata": {},
   "outputs": [
    {
     "name": "stdout",
     "output_type": "stream",
     "text": [
      "         City  Sex  Age  Occupation  Monthly Household Income         Income  \\\n",
      "Cluster                                                                        \n",
      "0         0.0  0.0  0.0         0.0                       0.0   35000.000000   \n",
      "1         0.0  0.0  0.0         0.0                       0.0   70384.615385   \n",
      "2         0.0  0.0  0.0         0.0                       0.0  175909.090909   \n",
      "\n",
      "         Planning to Buy a new house  Time Frame  Reasons for buying a house  \\\n",
      "Cluster                                                                        \n",
      "0                                0.0         0.0                         0.0   \n",
      "1                                0.0         0.0                         0.0   \n",
      "2                                0.0         0.0                         0.0   \n",
      "\n",
      "         what type of House  ...  4. Availability of domestic help      Time  \\\n",
      "Cluster                      ...                                               \n",
      "0                       0.0  ...                          2.666667  5.333333   \n",
      "1                       0.0  ...                          2.846154  7.769231   \n",
      "2                       0.0  ...                          3.863636  7.363636   \n",
      "\n",
      "                Size     Budgets  Maintainances         EMI.1       ages  sex  \\\n",
      "Cluster                                                                         \n",
      "0         311.111111   14.722222   10000.000000  15833.333333  34.611111  0.0   \n",
      "1         912.820513   47.243590   27695.384615  38397.435897  40.807692  0.0   \n",
      "2        1818.181818  114.318182   67727.272727  72159.090909  54.545455  0.0   \n",
      "\n",
      "         Finished/Semi Finished.1  Influence Decision.1  \n",
      "Cluster                                                  \n",
      "0                             0.0                   0.0  \n",
      "1                             0.0                   0.0  \n",
      "2                             0.0                   0.0  \n",
      "\n",
      "[3 rows x 50 columns]\n"
     ]
    }
   ],
   "source": [
    "# Analyze cluster characteristics (e.g., centroids, cluster sizes)\n",
    "cluster_summary = df.groupby('Cluster').mean()\n",
    "print(cluster_summary)"
   ]
  },
  {
   "cell_type": "code",
   "execution_count": 15,
   "id": "15e0019a",
   "metadata": {},
   "outputs": [
    {
     "data": {
      "image/png": "[encoded data removed]",
      "text/plain": [
       "<Figure size 400x300 with 2 Axes>"
      ]
     },
     "metadata": {},
     "output_type": "display_data"
    }
   ],
   "source": [
    "# Optional: Visualize clusters (PCA for dimensionality reduction if needed)\n",
    "# Example using PCA for visualization (if you have many features)\n",
    "from sklearn.decomposition import PCA\n",
    "\n",
    "pca = PCA(n_components=2)\n",
    "df_encoded_pca = pca.fit_transform(df_encoded_scaled)\n",
    "\n",
    "plt.figure(figsize=(4, 3))\n",
    "plt.scatter(df_encoded_pca[:, 0], df_encoded_pca[:, 1], c=clusters, cmap='viridis', alpha=0.5)\n",
    "plt.title('PCA Plot of Clusters')\n",
    "plt.xlabel('PCA Component 1')\n",
    "plt.ylabel('PCA Component 2')\n",
    "plt.colorbar()\n",
    "plt.show()"
   ]
  },
  {
   "cell_type": "code",
   "execution_count": 15,
   "id": "1b676ad0",
   "metadata": {},
   "outputs": [
    {
     "name": "stdout",
     "output_type": "stream",
     "text": [
      "Silhouette Score: 0.17980065176002039\n"
     ]
    }
   ],
   "source": [
    "# Assess cluster quality with silhouette score\n",
    "silhouette_avg = silhouette_score(df_encoded_scaled, clusters)\n",
    "print(f\"Silhouette Score: {silhouette_avg}\")"
   ]
  },
  {
   "cell_type": "code",
   "execution_count": null,
   "id": "ed770fd1",
   "metadata": {},
   "outputs": [],
   "source": []
  }
 ],
 "metadata": {
  "kernelspec": {
   "display_name": "Python 3 (ipykernel)",
   "language": "python",
   "name": "python3"
  },
  "language_info": {
   "codemirror_mode": {
    "name": "ipython",
    "version": 3
   },
   "file_extension": ".py",
   "mimetype": "text/x-python",
   "name": "python",
   "nbconvert_exporter": "python",
   "pygments_lexer": "ipython3",
   "version": "3.11.5"
  }
 },
 "nbformat": 4,
 "nbformat_minor": 5
}
