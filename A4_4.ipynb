{
 "cells": [
  {
   "cell_type": "markdown",
   "id": "0b712d00",
   "metadata": {},
   "source": [
    "## A4_4 : Conjoint Analysis\n",
    "                    Gauri Vinod Nair\n",
    "                    V01110160"
   ]
  },
  {
   "cell_type": "code",
   "execution_count": 15,
   "id": "b82657f4",
   "metadata": {},
   "outputs": [],
   "source": [
    "# Import necessary libraries\n",
    "import pandas as pd\n",
    "import numpy as np\n",
    "import matplotlib.pyplot as plt\n",
    "import seaborn as sns\n",
    "import re  # For regular expressions\n",
    "from sklearn.preprocessing import StandardScaler\n",
    "from sklearn.linear_model import LinearRegression"
   ]
  },
  {
   "cell_type": "code",
   "execution_count": 3,
   "id": "af907d09",
   "metadata": {},
   "outputs": [
    {
     "data": {
      "text/html": [
       "<div>\n",
       "<style scoped>\n",
       "    .dataframe tbody tr th:only-of-type {\n",
       "        vertical-align: middle;\n",
       "    }\n",
       "\n",
       "    .dataframe tbody tr th {\n",
       "        vertical-align: top;\n",
       "    }\n",
       "\n",
       "    .dataframe thead th {\n",
       "        text-align: right;\n",
       "    }\n",
       "</style>\n",
       "<table border=\"1\" class=\"dataframe\">\n",
       "  <thead>\n",
       "    <tr style=\"text-align: right;\">\n",
       "      <th></th>\n",
       "      <th>brand</th>\n",
       "      <th>price</th>\n",
       "      <th>weight</th>\n",
       "      <th>crust</th>\n",
       "      <th>cheese</th>\n",
       "      <th>size</th>\n",
       "      <th>toppings</th>\n",
       "      <th>spicy</th>\n",
       "      <th>ranking</th>\n",
       "    </tr>\n",
       "  </thead>\n",
       "  <tbody>\n",
       "    <tr>\n",
       "      <th>0</th>\n",
       "      <td>Dominos</td>\n",
       "      <td>$1.00</td>\n",
       "      <td>100g</td>\n",
       "      <td>thin</td>\n",
       "      <td>Mozzarella</td>\n",
       "      <td>regular</td>\n",
       "      <td>paneer</td>\n",
       "      <td>normal</td>\n",
       "      <td>11</td>\n",
       "    </tr>\n",
       "    <tr>\n",
       "      <th>1</th>\n",
       "      <td>Pizza hut</td>\n",
       "      <td>$3.00</td>\n",
       "      <td>100g</td>\n",
       "      <td>thin</td>\n",
       "      <td>Cheddar</td>\n",
       "      <td>large</td>\n",
       "      <td>mushroom</td>\n",
       "      <td>normal</td>\n",
       "      <td>12</td>\n",
       "    </tr>\n",
       "    <tr>\n",
       "      <th>2</th>\n",
       "      <td>Onesta</td>\n",
       "      <td>$4.00</td>\n",
       "      <td>200g</td>\n",
       "      <td>thin</td>\n",
       "      <td>Mozzarella</td>\n",
       "      <td>regular</td>\n",
       "      <td>mushroom</td>\n",
       "      <td>normal</td>\n",
       "      <td>9</td>\n",
       "    </tr>\n",
       "    <tr>\n",
       "      <th>3</th>\n",
       "      <td>Pizza hut</td>\n",
       "      <td>$4.00</td>\n",
       "      <td>400g</td>\n",
       "      <td>thick</td>\n",
       "      <td>Cheddar</td>\n",
       "      <td>regular</td>\n",
       "      <td>paneer</td>\n",
       "      <td>normal</td>\n",
       "      <td>2</td>\n",
       "    </tr>\n",
       "    <tr>\n",
       "      <th>4</th>\n",
       "      <td>Pizza hut</td>\n",
       "      <td>$2.00</td>\n",
       "      <td>300g</td>\n",
       "      <td>thin</td>\n",
       "      <td>Mozzarella</td>\n",
       "      <td>regular</td>\n",
       "      <td>mushroom</td>\n",
       "      <td>extra</td>\n",
       "      <td>8</td>\n",
       "    </tr>\n",
       "  </tbody>\n",
       "</table>\n",
       "</div>"
      ],
      "text/plain": [
       "       brand  price weight  crust      cheese     size  toppings   spicy  \\\n",
       "0    Dominos  $1.00   100g   thin  Mozzarella  regular    paneer  normal   \n",
       "1  Pizza hut  $3.00   100g   thin     Cheddar    large  mushroom  normal   \n",
       "2     Onesta  $4.00   200g   thin  Mozzarella  regular  mushroom  normal   \n",
       "3  Pizza hut  $4.00   400g  thick     Cheddar  regular    paneer  normal   \n",
       "4  Pizza hut  $2.00   300g   thin  Mozzarella  regular  mushroom   extra   \n",
       "\n",
       "   ranking  \n",
       "0       11  \n",
       "1       12  \n",
       "2        9  \n",
       "3        2  \n",
       "4        8  "
      ]
     },
     "execution_count": 3,
     "metadata": {},
     "output_type": "execute_result"
    }
   ],
   "source": [
    "# Load the dataset\n",
    "pizza_data = pd.read_csv('pizza_data.csv')\n",
    "pizza_data.head()"
   ]
  },
  {
   "cell_type": "code",
   "execution_count": 16,
   "id": "5880f84e",
   "metadata": {},
   "outputs": [],
   "source": [
    "# Data cleaning: Remove non-numeric characters from price column\n",
    "pizza_data['price'] = pizza_data['price'].replace('[\\$,]', '', regex=True).astype(float)"
   ]
  },
  {
   "cell_type": "code",
   "execution_count": 18,
   "id": "5fc6c22a",
   "metadata": {},
   "outputs": [],
   "source": [
    "# Extract numeric part from 'weight' column\n",
    "pizza_data['weight'] = pizza_data['weight'].str.extract('(\\d+\\.?\\d*)').astype(float)"
   ]
  },
  {
   "cell_type": "code",
   "execution_count": 4,
   "id": "0bca340d",
   "metadata": {},
   "outputs": [
    {
     "name": "stdout",
     "output_type": "stream",
     "text": [
      "brand       0\n",
      "price       0\n",
      "weight      0\n",
      "crust       0\n",
      "cheese      0\n",
      "size        0\n",
      "toppings    0\n",
      "spicy       0\n",
      "ranking     0\n",
      "dtype: int64\n"
     ]
    }
   ],
   "source": [
    "# Check for missing values\n",
    "print(pizza_data.isnull().sum())"
   ]
  },
  {
   "cell_type": "code",
   "execution_count": 5,
   "id": "a5a9a694",
   "metadata": {},
   "outputs": [
    {
     "name": "stdout",
     "output_type": "stream",
     "text": [
      "         ranking\n",
      "count  16.000000\n",
      "mean    8.500000\n",
      "std     4.760952\n",
      "min     1.000000\n",
      "25%     4.750000\n",
      "50%     8.500000\n",
      "75%    12.250000\n",
      "max    16.000000\n"
     ]
    }
   ],
   "source": [
    "# Summary statistics\n",
    "print(pizza_data.describe())"
   ]
  },
  {
   "cell_type": "code",
   "execution_count": 6,
   "id": "96b2b805",
   "metadata": {},
   "outputs": [
    {
     "data": {
      "text/plain": [
       "<Figure size 1200x600 with 0 Axes>"
      ]
     },
     "execution_count": 6,
     "metadata": {},
     "output_type": "execute_result"
    },
    {
     "data": {
      "text/plain": [
       "<Figure size 1200x600 with 0 Axes>"
      ]
     },
     "metadata": {},
     "output_type": "display_data"
    }
   ],
   "source": [
    "# EDA: Visualize distributions and relationships\n",
    "# Example plots (customize as needed)\n",
    "plt.figure(figsize=(12, 6))"
   ]
  },
  {
   "cell_type": "code",
   "execution_count": 7,
   "id": "1824bbfb",
   "metadata": {},
   "outputs": [
    {
     "data": {
      "text/plain": [
       "Text(0.5, 1.0, 'Distribution of Price')"
      ]
     },
     "execution_count": 7,
     "metadata": {},
     "output_type": "execute_result"
    },
    {
     "data": {
      "image/png": "[encoded data removed]",
      "text/plain": [
       "<Figure size 640x480 with 1 Axes>"
      ]
     },
     "metadata": {},
     "output_type": "display_data"
    }
   ],
   "source": [
    "# Example 1: Distribution of Price\n",
    "plt.subplot(2, 2, 1)\n",
    "sns.histplot(pizza_data['price'], bins=10, kde=True)\n",
    "plt.title('Distribution of Price')"
   ]
  },
  {
   "cell_type": "code",
   "execution_count": 8,
   "id": "1e8c8547",
   "metadata": {},
   "outputs": [
    {
     "data": {
      "text/plain": [
       "Text(0.5, 1.0, 'Price vs Ranking')"
      ]
     },
     "execution_count": 8,
     "metadata": {},
     "output_type": "execute_result"
    },
    {
     "data": {
      "image/png": "[encoded data removed]",
      "text/plain": [
       "<Figure size 640x480 with 1 Axes>"
      ]
     },
     "metadata": {},
     "output_type": "display_data"
    }
   ],
   "source": [
    "# Example 2: Relationship between Price and Ranking\n",
    "plt.subplot(2, 2, 2)\n",
    "sns.scatterplot(x='price', y='ranking', data=pizza_data)\n",
    "plt.title('Price vs Ranking')"
   ]
  },
  {
   "cell_type": "code",
   "execution_count": 9,
   "id": "719e7304",
   "metadata": {},
   "outputs": [
    {
     "data": {
      "image/png": "[encoded data removed]",
      "text/plain": [
       "<Figure size 640x480 with 1 Axes>"
      ]
     },
     "metadata": {},
     "output_type": "display_data"
    }
   ],
   "source": [
    "# Example 3: Boxplot of Ranking by Crust Type\n",
    "plt.subplot(2, 2, 3)\n",
    "sns.boxplot(x='crust', y='ranking', data=pizza_data)\n",
    "plt.title('Ranking by Crust Type')\n",
    "\n",
    "plt.tight_layout()\n",
    "plt.show()"
   ]
  },
  {
   "cell_type": "code",
   "execution_count": 10,
   "id": "675a45b7",
   "metadata": {},
   "outputs": [],
   "source": [
    "# Data preprocessing (example: encoding categorical variables)\n",
    "# Convert categorical variables to numerical using one-hot encoding\n",
    "pizza_data = pd.get_dummies(pizza_data, columns=['crust', 'cheese', 'size', 'toppings', 'spicy'], drop_first=True)"
   ]
  },
  {
   "cell_type": "code",
   "execution_count": 19,
   "id": "657c52f3",
   "metadata": {},
   "outputs": [],
   "source": [
    "# Standardize numerical variables\n",
    "scaler = StandardScaler()\n",
    "pizza_data[['price', 'weight']] = scaler.fit_transform(pizza_data[['price', 'weight']])"
   ]
  },
  {
   "cell_type": "code",
   "execution_count": 20,
   "id": "4749d264",
   "metadata": {},
   "outputs": [],
   "source": [
    "# Create the design matrix for conjoint analysis\n",
    "X = pizza_data.drop(['brand', 'ranking'], axis=1)  # Exclude brand and ranking (dependent variable)\n",
    "y = pizza_data['ranking']  # Target variable"
   ]
  },
  {
   "cell_type": "code",
   "execution_count": 21,
   "id": "e6472fa8",
   "metadata": {},
   "outputs": [
    {
     "data": {
      "text/html": [
       "<style>#sk-container-id-1 {color: black;}#sk-container-id-1 pre{padding: 0;}#sk-container-id-1 div.sk-toggleable {background-color: white;}#sk-container-id-1 label.sk-toggleable__label {cursor: pointer;display: block;width: 100%;margin-bottom: 0;padding: 0.3em;box-sizing: border-box;text-align: center;}#sk-container-id-1 label.sk-toggleable__label-arrow:before {content: \"▸\";float: left;margin-right: 0.25em;color: #696969;}#sk-container-id-1 label.sk-toggleable__label-arrow:hover:before {color: black;}#sk-container-id-1 div.sk-estimator:hover label.sk-toggleable__label-arrow:before {color: black;}#sk-container-id-1 div.sk-toggleable__content {max-height: 0;max-width: 0;overflow: hidden;text-align: left;background-color: #f0f8ff;}#sk-container-id-1 div.sk-toggleable__content pre {margin: 0.2em;color: black;border-radius: 0.25em;background-color: #f0f8ff;}#sk-container-id-1 input.sk-toggleable__control:checked~div.sk-toggleable__content {max-height: 200px;max-width: 100%;overflow: auto;}#sk-container-id-1 input.sk-toggleable__control:checked~label.sk-toggleable__label-arrow:before {content: \"▾\";}#sk-container-id-1 div.sk-estimator input.sk-toggleable__control:checked~label.sk-toggleable__label {background-color: #d4ebff;}#sk-container-id-1 div.sk-label input.sk-toggleable__control:checked~label.sk-toggleable__label {background-color: #d4ebff;}#sk-container-id-1 input.sk-hidden--visually {border: 0;clip: rect(1px 1px 1px 1px);clip: rect(1px, 1px, 1px, 1px);height: 1px;margin: -1px;overflow: hidden;padding: 0;position: absolute;width: 1px;}#sk-container-id-1 div.sk-estimator {font-family: monospace;background-color: #f0f8ff;border: 1px dotted black;border-radius: 0.25em;box-sizing: border-box;margin-bottom: 0.5em;}#sk-container-id-1 div.sk-estimator:hover {background-color: #d4ebff;}#sk-container-id-1 div.sk-parallel-item::after {content: \"\";width: 100%;border-bottom: 1px solid gray;flex-grow: 1;}#sk-container-id-1 div.sk-label:hover label.sk-toggleable__label {background-color: #d4ebff;}#sk-container-id-1 div.sk-serial::before {content: \"\";position: absolute;border-left: 1px solid gray;box-sizing: border-box;top: 0;bottom: 0;left: 50%;z-index: 0;}#sk-container-id-1 div.sk-serial {display: flex;flex-direction: column;align-items: center;background-color: white;padding-right: 0.2em;padding-left: 0.2em;position: relative;}#sk-container-id-1 div.sk-item {position: relative;z-index: 1;}#sk-container-id-1 div.sk-parallel {display: flex;align-items: stretch;justify-content: center;background-color: white;position: relative;}#sk-container-id-1 div.sk-item::before, #sk-container-id-1 div.sk-parallel-item::before {content: \"\";position: absolute;border-left: 1px solid gray;box-sizing: border-box;top: 0;bottom: 0;left: 50%;z-index: -1;}#sk-container-id-1 div.sk-parallel-item {display: flex;flex-direction: column;z-index: 1;position: relative;background-color: white;}#sk-container-id-1 div.sk-parallel-item:first-child::after {align-self: flex-end;width: 50%;}#sk-container-id-1 div.sk-parallel-item:last-child::after {align-self: flex-start;width: 50%;}#sk-container-id-1 div.sk-parallel-item:only-child::after {width: 0;}#sk-container-id-1 div.sk-dashed-wrapped {border: 1px dashed gray;margin: 0 0.4em 0.5em 0.4em;box-sizing: border-box;padding-bottom: 0.4em;background-color: white;}#sk-container-id-1 div.sk-label label {font-family: monospace;font-weight: bold;display: inline-block;line-height: 1.2em;}#sk-container-id-1 div.sk-label-container {text-align: center;}#sk-container-id-1 div.sk-container {/* jupyter's `normalize.less` sets `[hidden] { display: none; }` but bootstrap.min.css set `[hidden] { display: none !important; }` so we also need the `!important` here to be able to override the default hidden behavior on the sphinx rendered scikit-learn.org. See: https://github.com/scikit-learn/scikit-learn/issues/21755 */display: inline-block !important;position: relative;}#sk-container-id-1 div.sk-text-repr-fallback {display: none;}</style><div id=\"sk-container-id-1\" class=\"sk-top-container\"><div class=\"sk-text-repr-fallback\"><pre>LinearRegression()</pre><b>In a Jupyter environment, please rerun this cell to show the HTML representation or trust the notebook. <br />On GitHub, the HTML representation is unable to render, please try loading this page with nbviewer.org.</b></div><div class=\"sk-container\" hidden><div class=\"sk-item\"><div class=\"sk-estimator sk-toggleable\"><input class=\"sk-toggleable__control sk-hidden--visually\" id=\"sk-estimator-id-1\" type=\"checkbox\" checked><label for=\"sk-estimator-id-1\" class=\"sk-toggleable__label sk-toggleable__label-arrow\">LinearRegression</label><div class=\"sk-toggleable__content\"><pre>LinearRegression()</pre></div></div></div></div></div>"
      ],
      "text/plain": [
       "LinearRegression()"
      ]
     },
     "execution_count": 21,
     "metadata": {},
     "output_type": "execute_result"
    }
   ],
   "source": [
    "# Fit a linear regression model\n",
    "model = LinearRegression()\n",
    "model.fit(X, y)"
   ]
  },
  {
   "cell_type": "code",
   "execution_count": 22,
   "id": "cd865fb6",
   "metadata": {},
   "outputs": [],
   "source": [
    "# Extract coefficients as part-worth utilities\n",
    "part_worths = model.coef_"
   ]
  },
  {
   "cell_type": "code",
   "execution_count": 23,
   "id": "0c521302",
   "metadata": {},
   "outputs": [
    {
     "name": "stdout",
     "output_type": "stream",
     "text": [
      "Part-Worth Utilities (Coefficients):\n",
      "\n",
      "price: -0.503115294937453\n",
      "weight: -3.969020660062128\n",
      "crust_thin: -3.5000000000000027\n",
      "cheese_Mozzarella: 0.49999999999999856\n",
      "size_regular: 0.49999999999999845\n",
      "toppings_paneer: -2.250000000000001\n",
      "spicy_normal: -1.5000000000000004\n"
     ]
    }
   ],
   "source": [
    "# Print part-worth utilities\n",
    "print(\"Part-Worth Utilities (Coefficients):\\n\")\n",
    "for idx, feature in enumerate(X.columns):\n",
    "    print(f\"{feature}: {part_worths[idx]}\")"
   ]
  },
  {
   "cell_type": "code",
   "execution_count": 24,
   "id": "72e3d269",
   "metadata": {},
   "outputs": [],
   "source": [
    "# Calculate relative importance of attributes\n",
    "total_importance = sum(abs(part_worths))\n",
    "relative_importance = [abs(pw) / total_importance for pw in part_worths]"
   ]
  },
  {
   "cell_type": "code",
   "execution_count": 25,
   "id": "e17538e7",
   "metadata": {},
   "outputs": [
    {
     "name": "stdout",
     "output_type": "stream",
     "text": [
      "\n",
      "Relative Importance of Attributes:\n",
      "\n",
      "price: 0.03954644854583064\n",
      "weight: 0.3119775385282194\n",
      "crust_thin: 0.27511103578676677\n",
      "cheese_Mozzarella: 0.03930157654096654\n",
      "size_regular: 0.03930157654096653\n",
      "toppings_paneer: 0.17685709443435002\n",
      "spicy_normal: 0.1179047296229\n"
     ]
    }
   ],
   "source": [
    "# Print relative importance of attributes\n",
    "print(\"\\nRelative Importance of Attributes:\\n\")\n",
    "for idx, feature in enumerate(X.columns):\n",
    "    print(f\"{feature}: {relative_importance[idx]}\")"
   ]
  },
  {
   "cell_type": "code",
   "execution_count": null,
   "id": "cd51ae48",
   "metadata": {},
   "outputs": [],
   "source": []
  }
 ],
 "metadata": {
  "kernelspec": {
   "display_name": "Python 3 (ipykernel)",
   "language": "python",
   "name": "python3"
  },
  "language_info": {
   "codemirror_mode": {
    "name": "ipython",
    "version": 3
   },
   "file_extension": ".py",
   "mimetype": "text/x-python",
   "name": "python",
   "nbconvert_exporter": "python",
   "pygments_lexer": "ipython3",
   "version": "3.11.5"
  }
 },
 "nbformat": 4,
 "nbformat_minor": 5
}
